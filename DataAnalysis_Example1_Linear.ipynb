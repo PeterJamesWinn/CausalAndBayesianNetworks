{
 "cells": [
  {
   "cell_type": "code",
   "execution_count": 1,
   "metadata": {},
   "outputs": [
    {
     "name": "stdout",
     "output_type": "stream",
     "text": [
      "     X    B     Y\n",
      "0    1  0.5  0.25\n",
      "1    2  1.0  0.50\n",
      "2    3  1.5  0.75\n",
      "3    4  2.0  1.00\n",
      "4    5  2.5  1.25\n",
      "5    6  3.0  1.50\n",
      "6    7  3.5  1.75\n",
      "7    8  4.0  2.00\n",
      "8    9  4.5  2.25\n",
      "9   10  5.0  2.50\n",
      "10  11  5.5  2.75\n",
      "11  12  6.0  3.00\n",
      "12  13  6.5  3.25\n",
      "13  14  7.0  3.50\n",
      "14  15  7.5  3.75\n"
     ]
    }
   ],
   "source": [
    "import pandas as pd\n",
    "\n",
    "dataframe = pd.read_csv('Example1_linear_NetworkValues.csv')\n",
    "print(dataframe)\n"
   ]
  },
  {
   "cell_type": "code",
   "execution_count": 2,
   "metadata": {},
   "outputs": [
    {
     "name": "stdout",
     "output_type": "stream",
     "text": [
      "     X    B     Y\n",
      "0    1  0.5  0.25\n",
      "1    2  1.0  0.50\n",
      "2    3  1.5  0.75\n",
      "3    4  2.0  1.00\n",
      "4    5  2.5  1.25\n",
      "5    6  3.0  1.50\n",
      "6    7  3.5  1.75\n",
      "7    8  4.0  2.00\n",
      "8    9  4.5  2.25\n",
      "9   10  5.0  2.50\n",
      "10  11  5.5  2.75\n",
      "11  12  6.0  3.00\n",
      "12  13  6.5  3.25\n",
      "13  14  7.0  3.50\n",
      "14  15  7.5  3.75\n"
     ]
    }
   ],
   "source": [
    "print(dataframe[['X','B', 'Y']])"
   ]
  },
  {
   "cell_type": "code",
   "execution_count": 3,
   "metadata": {},
   "outputs": [
    {
     "data": {
      "image/png": "[encoded data removed]",
      "text/plain": [
       "<Figure size 432x288 with 1 Axes>"
      ]
     },
     "metadata": {
      "needs_background": "light"
     },
     "output_type": "display_data"
    }
   ],
   "source": [
    "from sklearn.linear_model import LinearRegression\n",
    "import matplotlib.pyplot as plt\n",
    "\n",
    "X = dataframe.iloc[:, 0].values.reshape(-1, 1)  # values converts it into a numpy array\n",
    "Y = dataframe.iloc[:, 1].values.reshape(-1, 1)  # -1 means that calculate the dimension of rows, but have 1 column\n",
    "linear_regressor = LinearRegression()  # create object for the class\n",
    "linear_regressor.fit(X, Y)  # perform linear regression\n",
    "Y_pred = linear_regressor.predict(X)  # make predictions\n",
    "\n",
    "plt.scatter(X, Y)\n",
    "plt.plot(X, Y_pred, color='red')\n",
    "plt.show()\n"
   ]
  }
 ],
 "metadata": {
  "interpreter": {
   "hash": "0be956a77a4c4fbf44b600a6f9eb2d46be2a1971f98f17fca2b6e6ee6e47b8d2"
  },
  "kernelspec": {
   "display_name": "Python 3.10.0 64-bit",
   "language": "python",
   "name": "python3"
  },
  "language_info": {
   "codemirror_mode": {
    "name": "ipython",
    "version": 3
   },
   "file_extension": ".py",
   "mimetype": "text/x-python",
   "name": "python",
   "nbconvert_exporter": "python",
   "pygments_lexer": "ipython3",
   "version": "3.10.0"
  },
  "orig_nbformat": 4
 },
 "nbformat": 4,
 "nbformat_minor": 2
}
