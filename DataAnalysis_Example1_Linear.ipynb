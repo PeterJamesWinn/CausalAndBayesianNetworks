{
 "cells": [
  {
   "cell_type": "code",
   "execution_count": 1,
   "metadata": {},
   "outputs": [
    {
     "name": "stdout",
     "output_type": "stream",
     "text": [
      "     X      B      Y\n",
      "0    1    1.5   0.75\n",
      "1    2    3.0   1.50\n",
      "2    3    5.5   2.75\n",
      "3    4    9.0   4.50\n",
      "4    5   13.5   6.75\n",
      "5    6   19.0   9.50\n",
      "6    7   25.5  12.75\n",
      "7    8   33.0  16.50\n",
      "8    9   41.5  20.75\n",
      "9   10   51.0  25.50\n",
      "10  11   61.5  30.75\n",
      "11  12   73.0  36.50\n",
      "12  13   85.5  42.75\n",
      "13  14   99.0  49.50\n",
      "14  15  113.5  56.75\n"
     ]
    }
   ],
   "source": [
    "import pandas as pd\n",
    "\n",
    "dataframe = pd.read_csv('Example1_NetworkValues.csv')\n",
    "print(dataframe)\n"
   ]
  },
  {
   "cell_type": "code",
   "execution_count": 2,
   "metadata": {},
   "outputs": [
    {
     "name": "stdout",
     "output_type": "stream",
     "text": [
      "0      1\n",
      "1      2\n",
      "2      3\n",
      "3      4\n",
      "4      5\n",
      "5      6\n",
      "6      7\n",
      "7      8\n",
      "8      9\n",
      "9     10\n",
      "10    11\n",
      "11    12\n",
      "12    13\n",
      "13    14\n",
      "14    15\n",
      "Name: X, dtype: int64\n"
     ]
    }
   ],
   "source": [
    "print(dataframe[['X']])"
   ]
  }
 ],
 "metadata": {
  "interpreter": {
   "hash": "0be956a77a4c4fbf44b600a6f9eb2d46be2a1971f98f17fca2b6e6ee6e47b8d2"
  },
  "kernelspec": {
   "display_name": "Python 3.10.0 64-bit",
   "language": "python",
   "name": "python3"
  },
  "language_info": {
   "codemirror_mode": {
    "name": "ipython",
    "version": 3
   },
   "file_extension": ".py",
   "mimetype": "text/x-python",
   "name": "python",
   "nbconvert_exporter": "python",
   "pygments_lexer": "ipython3",
   "version": "3.10.0"
  },
  "orig_nbformat": 4
 },
 "nbformat": 4,
 "nbformat_minor": 2
}
