{
 "cells": [
  {
   "cell_type": "code",
   "execution_count": 33,
   "metadata": {},
   "outputs": [],
   "source": [
    "from network_generator_2 import *"
   ]
  },
  {
   "cell_type": "code",
   "execution_count": 18,
   "metadata": {},
   "outputs": [],
   "source": [
    "# Define the nodes, their names and any initial values. Default value is 0\n",
    "X = Node(\"X\", 5)\n",
    "B = Node(\"B\")\n",
    "Y = Node(\"Y\")\n",
    "\n",
    "# Define the connections that a node makes. \n",
    "# AddOutConnection automatically also creats an AddInConnection \n",
    "# call on the recieving node\n",
    "# The below defines a simple network such that X->B->Y \n",
    "# such that initially defining the value of X propagates through \n",
    "# to define the values\n",
    "# of B and y.\n",
    "X.add_out_connection(B, 0.5)\n",
    "# B.AddInConnection(X,0.5)\n",
    "B.add_out_connection(Y, 0.5)\n",
    "# Y.AddInConnection(B,0.5)"
   ]
  },
  {
   "cell_type": "code",
   "execution_count": 19,
   "metadata": {},
   "outputs": [],
   "source": [
    "# X.PrintNodeData()\n",
    "# B.PrintNodeData()\n",
    "# Y.PrintNodeData()\n",
    "# X.PrintNodeData()\n",
    "\n",
    "# defining the node list in the order of influence, X->B->Y means that the\n",
    "# network values with be consistent after one evaluation of the network.\n",
    "node_list = [X, B, Y]\n",
    "network = NetworkInstance(node_list)\n"
   ]
  },
  {
   "cell_type": "code",
   "execution_count": 20,
   "metadata": {},
   "outputs": [
    {
     "name": "stdout",
     "output_type": "stream",
     "text": [
      "X 5\n",
      "B 0\n",
      "Y 0\n",
      "X 5\n",
      "B 2.5\n",
      "Y 1.25\n",
      "  NodeName  CurrentValue InComingConnectionFromNodes  InComingValues\n",
      "0        X          5.00                        None             NaN\n",
      "1        B          2.50                           X             0.5\n",
      "2        Y          1.25                           B             0.5\n"
     ]
    }
   ],
   "source": [
    "\n",
    "\n",
    "\n",
    "\n",
    "\n",
    "\n",
    "\n",
    "network.evaluate_network()\n",
    "network.converge_network()\n",
    "network_dataframe = network.make_network_dataframe()\n",
    "print(network_dataframe)\n",
    "#network_dataframe.to_csv(\"NetworkParameters.csv\", index=False, na_rep='None')\n",
    "\n"
   ]
  },
  {
   "cell_type": "code",
   "execution_count": 21,
   "metadata": {},
   "outputs": [
    {
     "name": "stdout",
     "output_type": "stream",
     "text": [
      "A 5\n",
      "B 0\n",
      "Y 0\n",
      "X 0\n",
      "C 1\n",
      "  NodeName  CurrentValue InComingConnectionFromNodes  InComingValues     4  \\\n",
      "0        A           5.0                        None             NaN  None   \n",
      "1        B           3.0                           A             0.5     C   \n",
      "2        Y           0.5                           C             0.5     X   \n",
      "3        X           4.0                           A             0.5     B   \n",
      "4        C           1.0                        None             NaN  None   \n",
      "\n",
      "     5  \n",
      "0  NaN  \n",
      "1  0.5  \n",
      "2  0.5  \n",
      "3  0.5  \n",
      "4  NaN  \n",
      "A 5\n",
      "B 3.0\n",
      "Y 0.5\n",
      "X 4.0\n",
      "C 1\n",
      "re-evaluate\n",
      "A 5\n",
      "B 3.0\n",
      "Y 2.5\n",
      "X 4.0\n",
      "C 1\n",
      "  NodeName  CurrentValue InComingConnectionFromNodes  InComingValues     4  \\\n",
      "0        A           5.0                        None             NaN  None   \n",
      "1        B           3.0                           A             0.5     C   \n",
      "2        Y           2.5                           C             0.5     X   \n",
      "3        X           4.0                           A             0.5     B   \n",
      "4        C           1.0                        None             NaN  None   \n",
      "\n",
      "     5  \n",
      "0  NaN  \n",
      "1  0.5  \n",
      "2  0.5  \n",
      "3  0.5  \n",
      "4  NaN  \n"
     ]
    }
   ],
   "source": [
    "# Game 5 from Chapter 4 (Confounding and Deconfounding ...) \n",
    "# of The Book of Why.  \n",
    "\n",
    "A = Node(\"A\", 5)\n",
    "B = Node(\"B\")\n",
    "C = Node(\"C\", 1)\n",
    "Y = Node(\"Y\")\n",
    "X = Node(\"X\")\n",
    "\n",
    "A.add_out_connection(B, 0.5)\n",
    "A.add_out_connection(X, 0.5)\n",
    "B.add_out_connection(X, 0.5)\n",
    "C.add_out_connection(B, 0.5)\n",
    "C.add_out_connection(Y, 0.5)\n",
    "X.add_out_connection(Y, 0.5)\n",
    "\n",
    "# node_list = [A, C, B, X, Y]:  giving nodes in this order leads to\n",
    "# convergence in the first iteration, since a node is only visited\n",
    "# once the nodes on which it is dependent has been visited. \n",
    "# Any other order is a suboptimal order but network converges for this\n",
    "# topology on second pass.\n",
    "node_list = [A, C, B, Y, X]\n",
    "node_list = [A, B, Y, X, C]\n",
    "network = NetworkInstance(node_list)\n",
    "network.evaluate_network()\n",
    "network_dataframe_game5 = network.make_network_dataframe()\n",
    "print(network_dataframe_game5)\n",
    "network.converge_network()\n",
    "network_dataframe_game5 = network.make_network_dataframe()\n",
    "print(network_dataframe_game5)\n",
    "network_dataframe_game5.to_csv(\n",
    "    \"NetworkParameters_game5.csv\",\n",
    "    index=False,\n",
    "    na_rep='None')"
   ]
  },
  {
   "cell_type": "code",
   "execution_count": 22,
   "metadata": {},
   "outputs": [],
   "source": [
    "# Define the nodes, their names and any initial values. Default value is 0\n",
    "X = Node(\"X\", 5)\n",
    "B = Node(\"B\")\n",
    "Y = Node(\"Y\")\n",
    "\n"
   ]
  },
  {
   "cell_type": "code",
   "execution_count": 23,
   "metadata": {},
   "outputs": [],
   "source": [
    "def quadratic(in_value, coupling):\n",
    "    return(coupling * in_value * in_value)\n",
    "\n",
    "def linear(in_value, coupling):\n",
    "    return(coupling * in_value)\n",
    "\n"
   ]
  },
  {
   "cell_type": "code",
   "execution_count": 24,
   "metadata": {},
   "outputs": [],
   "source": [
    "\n",
    "\n",
    "\n",
    "# Define the connections that a node makes. \n",
    "# AddOutConnection automatically also creats an AddInConnection \n",
    "# call on the recieving node\n",
    "# The below defines a simple network such that X->B->Y \n",
    "# such that initially defining the value of X propagates through \n",
    "# to define the values\n",
    "# of B and y.\n",
    "X.add_out_connection(B, (0.5, linear))\n",
    "# B.AddInConnection(X,0.5)\n",
    "B.add_out_connection(Y, (0.5, linear))\n",
    "# Y.AddInConnection(B,0.5)"
   ]
  },
  {
   "cell_type": "code",
   "execution_count": 25,
   "metadata": {},
   "outputs": [],
   "source": [
    "# X.PrintNodeData()\n",
    "# B.PrintNodeData()\n",
    "# Y.PrintNodeData()\n",
    "# X.PrintNodeData()\n",
    "\n",
    "# defining the node list in the order of influence, X->B->Y means that the\n",
    "# network values with be consistent after one evaluation of the network.\n",
    "node_list = [X, B, Y]\n",
    "network = NetworkInstance(node_list)"
   ]
  },
  {
   "cell_type": "code",
   "execution_count": 37,
   "metadata": {},
   "outputs": [
    {
     "name": "stdout",
     "output_type": "stream",
     "text": [
      "X 5\n",
      "B 0\n"
     ]
    },
    {
     "ename": "TypeError",
     "evalue": "'Node' object is not subscriptable",
     "output_type": "error",
     "traceback": [
      "\u001b[1;31m---------------------------------------------------------------------------\u001b[0m",
      "\u001b[1;31mTypeError\u001b[0m                                 Traceback (most recent call last)",
      "\u001b[1;32m~\\AppData\\Local\\Temp/ipykernel_21396/529753933.py\u001b[0m in \u001b[0;36m<module>\u001b[1;34m\u001b[0m\n\u001b[0;32m      1\u001b[0m \u001b[1;32mfrom\u001b[0m \u001b[0mnetwork_generator_2\u001b[0m \u001b[1;32mimport\u001b[0m \u001b[1;33m*\u001b[0m\u001b[1;33m\u001b[0m\u001b[1;33m\u001b[0m\u001b[0m\n\u001b[0;32m      2\u001b[0m \u001b[1;33m\u001b[0m\u001b[0m\n\u001b[1;32m----> 3\u001b[1;33m \u001b[0mnetwork\u001b[0m\u001b[1;33m.\u001b[0m\u001b[0mevaluate_network_2\u001b[0m\u001b[1;33m(\u001b[0m\u001b[1;33m)\u001b[0m\u001b[1;33m\u001b[0m\u001b[1;33m\u001b[0m\u001b[0m\n\u001b[0m\u001b[0;32m      4\u001b[0m \u001b[1;31m#network.converge_network()\u001b[0m\u001b[1;33m\u001b[0m\u001b[1;33m\u001b[0m\u001b[0m\n\u001b[0;32m      5\u001b[0m \u001b[0mnetwork_dataframe\u001b[0m \u001b[1;33m=\u001b[0m \u001b[0mnetwork\u001b[0m\u001b[1;33m.\u001b[0m\u001b[0mmake_network_dataframe\u001b[0m\u001b[1;33m(\u001b[0m\u001b[1;33m)\u001b[0m\u001b[1;33m\u001b[0m\u001b[1;33m\u001b[0m\u001b[0m\n",
      "\u001b[1;32mc:\\Users\\customer\\Documents\\GitHub\\CausalAndBayesianNetworks\\network_generator_2.py\u001b[0m in \u001b[0;36mevaluate_network_2\u001b[1;34m(self)\u001b[0m\n\u001b[0;32m    167\u001b[0m                     \u001b[0mprint\u001b[0m\u001b[1;33m(\u001b[0m\u001b[1;34m\"connection data: \"\u001b[0m\u001b[1;33m,\u001b[0m \u001b[0mnode\u001b[0m\u001b[1;33m.\u001b[0m\u001b[0min_connection\u001b[0m\u001b[1;33m[\u001b[0m\u001b[0min_connection\u001b[0m\u001b[1;33m]\u001b[0m\u001b[1;33m)\u001b[0m\u001b[1;33m\u001b[0m\u001b[1;33m\u001b[0m\u001b[0m\n\u001b[0;32m    168\u001b[0m                     \u001b[0mcoupling_function\u001b[0m \u001b[1;33m=\u001b[0m \u001b[0mnode\u001b[0m\u001b[1;33m.\u001b[0m\u001b[0min_connections\u001b[0m\u001b[1;33m[\u001b[0m\u001b[0min_connection\u001b[0m\u001b[1;33m]\u001b[0m\u001b[1;33m[\u001b[0m\u001b[1;36m1\u001b[0m\u001b[1;33m]\u001b[0m\u001b[1;33m\u001b[0m\u001b[1;33m\u001b[0m\u001b[0m\n\u001b[1;32m--> 169\u001b[1;33m                     \u001b[0mincoming_value\u001b[0m \u001b[1;33m=\u001b[0m \u001b[0min_connection\u001b[0m\u001b[1;33m.\u001b[0m\u001b[0mnode_value\u001b[0m\u001b[1;33m\u001b[0m\u001b[1;33m\u001b[0m\u001b[0m\n\u001b[0m\u001b[0;32m    170\u001b[0m                     \u001b[0mcoupling_value\u001b[0m \u001b[1;33m=\u001b[0m \u001b[0mnode\u001b[0m\u001b[1;33m.\u001b[0m\u001b[0min_connections\u001b[0m\u001b[1;33m[\u001b[0m\u001b[0min_connection\u001b[0m\u001b[1;33m]\u001b[0m\u001b[1;33m[\u001b[0m\u001b[1;36m0\u001b[0m\u001b[1;33m]\u001b[0m\u001b[1;33m\u001b[0m\u001b[1;33m\u001b[0m\u001b[0m\n\u001b[0;32m    171\u001b[0m                     value = (\n",
      "\u001b[1;31mTypeError\u001b[0m: 'Node' object is not subscriptable"
     ]
    }
   ],
   "source": [
    "from network_generator_2 import *\n",
    "\n",
    "network.evaluate_network_2()\n",
    "#network.converge_network()\n",
    "network_dataframe = network.make_network_dataframe()\n",
    "print(network_dataframe)\n",
    "#network_dataframe.to_csv(\"NetworkParameters.csv\", index=False, na_rep='None')"
   ]
  }
 ],
 "metadata": {
  "interpreter": {
   "hash": "0be956a77a4c4fbf44b600a6f9eb2d46be2a1971f98f17fca2b6e6ee6e47b8d2"
  },
  "kernelspec": {
   "display_name": "Python 3.10.0 64-bit",
   "language": "python",
   "name": "python3"
  },
  "language_info": {
   "codemirror_mode": {
    "name": "ipython",
    "version": 3
   },
   "file_extension": ".py",
   "mimetype": "text/x-python",
   "name": "python",
   "nbconvert_exporter": "python",
   "pygments_lexer": "ipython3",
   "version": "3.10.0"
  },
  "orig_nbformat": 4
 },
 "nbformat": 4,
 "nbformat_minor": 2
}
